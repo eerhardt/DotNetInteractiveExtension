{
  "cells": [
    {
      "cell_type": "code",
      "execution_count": 1,
      "metadata": {
        "dotnet_interactive": {
          "language": "csharp"
        }
      },
      "source": [
        "#i \"nuget:https://pkgs.dev.azure.com/dnceng/public/_packaging/dotnet-tools/nuget/v3/index.json\"\n",
        "#r \"nuget:microsoft.dotnet.interactive.extensionlab,*-*\"\n",
        "#r \"nuget:Microsoft.Data.Analysis,*-*\""
      ],
      "outputs": []
    },
    {
      "cell_type": "code",
      "execution_count": 1,
      "metadata": {
        "dotnet_interactive": {
          "language": "csharp"
        }
      },
      "source": [
        "using System.IO;\n",
        "using Microsoft.Data.Analysis;\n",
        "using Microsoft.DotNet.Interactive.ExtensionLab;\n",
        "using Microsoft.ML;\n",
        "\n",
        "var nameColumn = new StringDataFrameColumn(\"name\", 0);\n",
        "var sizeColumn = new Int64DataFrameColumn(\"size\", 0);\n",
        "var versionColumn = new StringDataFrameColumn(\"version\", 0);\n",
        "var versionSortColumn = new StringDataFrameColumn(\"versionSort\", 0);\n",
        "\n",
        "void GatherDirectory(string directory, string version, string versionSort)\n",
        "{\n",
        "    var dir = new DirectoryInfo(directory);\n",
        "    foreach (var f in dir.GetFiles(\"*.dll.br\").Concat(dir.GetFiles(\"*.wasm.br\")))\n",
        "    {\n",
        "        nameColumn.Append(f.Name);\n",
        "        sizeColumn.Append(f.Length);\n",
        "        versionColumn.Append(version);\n",
        "        versionSortColumn.Append(versionSort);\n",
        "    }\n",
        "}\n",
        "\n",
        "GatherDirectory(@\"C:\\DotNetTest\\BlazorTEst\\bin\\Release\\net5.0\\publish\\wwwroot\\_framework\", \"net5\", \"3\");\n",
        "GatherDirectory(@\"C:\\DotNetTest\\Net6Blazor\\bin\\Release\\net6.0\\publish\\wwwroot\\_framework\", \"net6\", \"2\");\n",
        "GatherDirectory(@\"C:\\temp\\STJ_SG\\working\\blazorwasm_broken\\bin\\Release\\net6.0\\publish\\wwwroot\\_framework\", \"JSON Source Gen\", \"1\");\n",
        "\n",
        "var df = new DataFrame(versionColumn, nameColumn, sizeColumn, versionSortColumn);\n",
        "df = df[df.Columns[\"size\"].ElementwiseGreaterThan(19_000)];\n",
        "df.ExploreWithSandDance()"
      ],
      "outputs": []
    },
    {
      "cell_type": "markdown",
      "metadata": {},
      "source": [
        ""
      ]
    }
  ],
  "metadata": {
    "kernelspec": {
      "display_name": ".NET (C#)",
      "language": "C#",
      "name": ".net-csharp"
    },
    "language_info": {
      "file_extension": ".cs",
      "mimetype": "text/x-csharp",
      "name": "C#",
      "pygments_lexer": "csharp",
      "version": "8.0"
    }
  },
  "nbformat": 4,
  "nbformat_minor": 4
}