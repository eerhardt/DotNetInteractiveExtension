{
 "cells": [
  {
   "cell_type": "code",
   "execution_count": 1,
   "metadata": {},
   "source": [
    "#i \"nuget:https://www.myget.org/F/eerhardt-testfeed/api/v3/index.json\"\n",
    "#r \"nuget:illinkanalyzer,0.0.1-alpha1\""
   ],
   "outputs": []
  },
  {
   "cell_type": "code",
   "execution_count": 1,
   "metadata": {},
   "source": [
    "using LinkerAnalyzer;\n",
    "using LinkerAnalyzer.Core;\n",
    "\n",
    "var graph = new ConsoleDependencyGraph();\n",
    "graph.Load(@\"F:\\AppModel\\linker\\t\\experiments\\linker-dependencies.xml.gz\");"
   ],
   "outputs": []
  },
  {
   "cell_type": "code",
   "execution_count": 1,
   "metadata": {},
   "source": [
    "graph.ShowStat(verbose: true)"
   ],
   "outputs": []
  },
  {
   "cell_type": "code",
   "execution_count": 1,
   "metadata": {},
   "source": [
    "graph.ShowRoots()"
   ],
   "outputs": []
  },
  {
   "cell_type": "code",
   "execution_count": 1,
   "metadata": {},
   "source": [
    "graph.SpaceAnalyzer = new SpaceAnalyzer(@\"F:\\AppModel\\linker\\t\\experiments\");\n",
    "graph.SpaceAnalyzer.LoadAssemblies (true);"
   ],
   "outputs": []
  },
  {
   "cell_type": "code",
   "execution_count": 1,
   "metadata": {},
   "source": [
    "graph.SpaceAnalyzer.GetLargestNodes(5, \"Method\")"
   ],
   "outputs": []
  },
  {
   "cell_type": "code",
   "execution_count": 1,
   "metadata": {},
   "source": [
    "graph.SpaceAnalyzer.GetLargestNodes(5, \"TypeDef\")"
   ],
   "outputs": []
  },
  {
   "cell_type": "code",
   "execution_count": 1,
   "metadata": {},
   "source": [
    "graph.ShowRawDependencies(@\"TypeDef:System.Numerics.Vector`1\");"
   ],
   "outputs": []
  },
  {
   "cell_type": "code",
   "execution_count": 1,
   "metadata": {},
   "source": [
    "graph.ShowRawDependencies(@\"Method:System.Boolean System.String::EqualsHelper(System.String,System.String)\");"
   ],
   "outputs": []
  },
  {
   "cell_type": "code",
   "execution_count": 1,
   "metadata": {},
   "source": [
    ""
   ],
   "outputs": []
  }
 ],
 "metadata": {
  "kernelspec": {
   "display_name": ".NET (C#)",
   "language": "C#",
   "name": ".net-csharp"
  },
  "language_info": {
   "file_extension": ".cs",
   "mimetype": "text/x-csharp",
   "name": "C#",
   "pygments_lexer": "csharp",
   "version": "8.0"
  }
 },
 "nbformat": 4,
 "nbformat_minor": 4
}