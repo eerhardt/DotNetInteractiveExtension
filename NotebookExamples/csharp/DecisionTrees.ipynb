{
 "cells": [
  {
   "cell_type": "code",
   "execution_count": null,
   "metadata": {},
   "outputs": [],
   "source": [
    "#i \"nuget:C:\\git\\DotNetInteractiveExtension\\src\\Microsoft.ML.DotNet.Interactive.Extensions\\bin\\Debug\"\r\n",
    "#r \"nuget:Microsoft.ML.FastTree,1.4.0-preview2\"\r\n",
    "#r \"nuget:Microsoft.ML.DotNet.Interactive.Extensions\""
   ]
  },
  {
   "cell_type": "code",
   "execution_count": null,
   "metadata": {},
   "outputs": [],
   "source": [
    "using Microsoft.ML.DotNet.Interactive;\n",
    "using Microsoft.ML;\n",
    "using Microsoft.ML.Data;\n",
    "using Microsoft.ML.Trainers.FastTree;"
   ]
  },
  {
   "cell_type": "markdown",
   "metadata": {},
   "source": [
    "# Load Model\n",
    "Load the model from disk. Get the FastTree transformer from it. And get the names of each feature column."
   ]
  },
  {
   "cell_type": "code",
   "execution_count": null,
   "metadata": {},
   "outputs": [],
   "source": [
    "MLContext mlContext = new MLContext();\n",
    "ITransformer model = mlContext.Model.Load(@\"HousingTreeModel.zip\", out DataViewSchema inputSchema);\n",
    "\n",
    "DataViewSchema outputSchema = model.GetOutputSchema(inputSchema);\n",
    "\n",
    "ISingleFeaturePredictionTransformer<TreeEnsembleModelParametersBasedOnRegressionTree> predictor = ((TransformerChain<ITransformer>)model).LastTransformer as ISingleFeaturePredictionTransformer<TreeEnsembleModelParametersBasedOnRegressionTree>;\n",
    "VBuffer<ReadOnlyMemory<char>> featureNames = default;\n",
    "outputSchema[predictor.FeatureColumnName].GetSlotNames(ref featureNames);"
   ]
  },
  {
   "cell_type": "markdown",
   "metadata": {},
   "source": [
    "# Display the Tree"
   ]
  },
  {
   "cell_type": "code",
   "execution_count": null,
   "metadata": {},
   "outputs": [],
   "source": [
    "predictor.Model.TrainedTreeEnsemble.ToDecisionTreeData(featureNames)"
   ]
  },
  {
   "cell_type": "code",
   "execution_count": null,
   "metadata": {},
   "outputs": [],
   "source": []
  }
 ],
 "metadata": {
  "kernel_info": {
   "name": ".net-csharp"
  },
  "kernelspec": {
   "display_name": ".NET (C#)",
   "language": "C#",
   "name": ".net-csharp"
  },
  "language_info": {
   "file_extension": ".cs",
   "mimetype": "text/x-csharp",
   "name": "C#",
   "pygments_lexer": "csharp",
   "version": "8.0"
  },
  "nteract": {
   "version": "0.15.0"
  }
 },
 "nbformat": 4,
 "nbformat_minor": 4
}
